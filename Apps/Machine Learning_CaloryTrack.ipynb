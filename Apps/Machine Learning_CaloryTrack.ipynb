{
  "nbformat": 4,
  "nbformat_minor": 0,
  "metadata": {
    "colab": {
      "provenance": []
    },
    "kernelspec": {
      "name": "python3",
      "display_name": "Python 3"
    },
    "language_info": {
      "name": "python"
    }
  },
  "cells": [
    {
      "cell_type": "markdown",
      "source": [
        "### Import Library"
      ],
      "metadata": {
        "id": "j3zJ2UHBS6mb"
      }
    },
    {
      "cell_type": "code",
      "source": [
        "import tensorflow as tf\n",
        "from tensorflow.keras.preprocessing.image import ImageDataGenerator\n",
        "from tensorflow.keras import layers, models\n",
        "import os"
      ],
      "metadata": {
        "id": "m8czM0CBS9t7"
      },
      "execution_count": null,
      "outputs": []
    },
    {
      "cell_type": "markdown",
      "source": [
        "### Import Data"
      ],
      "metadata": {
        "id": "F6Dy-cpJWQOp"
      }
    },
    {
      "cell_type": "code",
      "source": [
        "from google.colab import drive\n",
        "drive.mount('/content/drive')"
      ],
      "metadata": {
        "colab": {
          "base_uri": "https://localhost:8080/"
        },
        "id": "epggACRoS_He",
        "outputId": "4096dd27-0929-4d2d-b01d-a5a23eab537b"
      },
      "execution_count": null,
      "outputs": [
        {
          "output_type": "stream",
          "name": "stdout",
          "text": [
            "Drive already mounted at /content/drive; to attempt to forcibly remount, call drive.mount(\"/content/drive\", force_remount=True).\n"
          ]
        }
      ]
    },
    {
      "cell_type": "code",
      "source": [
        "dataset_path = '/content/drive/My Drive/Dataset'\n",
        "\n",
        "os.listdir(dataset_path)"
      ],
      "metadata": {
        "colab": {
          "base_uri": "https://localhost:8080/"
        },
        "id": "5RHYnKwrW3h5",
        "outputId": "aaf12f4f-070b-48bc-ae7a-3e91ec337b9b"
      },
      "execution_count": null,
      "outputs": [
        {
          "output_type": "execute_result",
          "data": {
            "text/plain": [
              "['README.roboflow.txt', 'README.dataset.txt', 'train', 'test', 'valid']"
            ]
          },
          "metadata": {},
          "execution_count": 5
        }
      ]
    },
    {
      "cell_type": "markdown",
      "source": [
        "### Dataset Directory"
      ],
      "metadata": {
        "id": "VN6vLVfEhqN1"
      }
    },
    {
      "cell_type": "code",
      "source": [
        "# Path to the dataset directories\n",
        "train_dir = os.path.join(dataset_path, 'train')\n",
        "validation_dir = os.path.join(dataset_path, 'valid')\n",
        "test_dir = os.path.join(dataset_path, 'test')"
      ],
      "metadata": {
        "id": "FaKizmgpgpWK"
      },
      "execution_count": null,
      "outputs": []
    },
    {
      "cell_type": "markdown",
      "source": [
        "### Data Augmentation"
      ],
      "metadata": {
        "id": "EHOK5JzJhti8"
      }
    },
    {
      "cell_type": "code",
      "source": [
        "# ImageDataGenerator for data augmentation\n",
        "train_datagen = ImageDataGenerator(\n",
        "    rescale=1./255,\n",
        "    rotation_range=20,\n",
        "    width_shift_range=0.2,\n",
        "    height_shift_range=0.2,\n",
        "    shear_range=0.2,\n",
        "    zoom_range=0.2,\n",
        "    horizontal_flip=True,\n",
        "    fill_mode='nearest'\n",
        ")\n",
        "\n",
        "validation_datagen = ImageDataGenerator(rescale=1./255)\n",
        "test_datagen = ImageDataGenerator(rescale=1./255)\n",
        "\n",
        "# Data generators\n",
        "train_generator = train_datagen.flow_from_directory(\n",
        "    train_dir,\n",
        "    target_size=(224, 224),\n",
        "    batch_size=32,\n",
        "    class_mode='categorical'\n",
        ")\n",
        "\n",
        "validation_generator = validation_datagen.flow_from_directory(\n",
        "    validation_dir,\n",
        "    target_size=(224, 224),\n",
        "    batch_size=32,\n",
        "    class_mode='categorical'\n",
        ")\n",
        "\n",
        "test_generator = test_datagen.flow_from_directory(\n",
        "    test_dir,\n",
        "    target_size=(224, 224),\n",
        "    batch_size=32,\n",
        "    class_mode='categorical'\n",
        ")"
      ],
      "metadata": {
        "colab": {
          "base_uri": "https://localhost:8080/"
        },
        "id": "F3M_EwX_gqhB",
        "outputId": "1bb36be0-41ba-4729-cfc7-1d631dc12f63"
      },
      "execution_count": null,
      "outputs": [
        {
          "output_type": "stream",
          "name": "stdout",
          "text": [
            "Found 635 images belonging to 18 classes.\n",
            "Found 179 images belonging to 18 classes.\n",
            "Found 89 images belonging to 18 classes.\n"
          ]
        }
      ]
    },
    {
      "cell_type": "markdown",
      "source": [
        "### Model"
      ],
      "metadata": {
        "id": "HGYWOLKChyRn"
      }
    },
    {
      "cell_type": "code",
      "source": [
        "base_model = tf.keras.applications.MobileNetV2(input_shape=(224, 224, 3), include_top=False, weights='imagenet')\n",
        "base_model.trainable = False"
      ],
      "metadata": {
        "colab": {
          "base_uri": "https://localhost:8080/"
        },
        "id": "PPhXNnd2hhhr",
        "outputId": "5e60b4aa-fba2-40d6-84a8-4b2b2a634e33"
      },
      "execution_count": null,
      "outputs": [
        {
          "output_type": "stream",
          "name": "stdout",
          "text": [
            "Downloading data from https://storage.googleapis.com/tensorflow/keras-applications/mobilenet_v2/mobilenet_v2_weights_tf_dim_ordering_tf_kernels_1.0_224_no_top.h5\n",
            "9406464/9406464 [==============================] - 0s 0us/step\n"
          ]
        }
      ]
    },
    {
      "cell_type": "code",
      "source": [
        "model = models.Sequential([\n",
        "    base_model,\n",
        "    layers.GlobalAveragePooling2D(),\n",
        "    layers.Dense(1024, activation='relu'),\n",
        "    layers.Dense(18, activation='softmax')  # 18 kelas makanan\n",
        "])"
      ],
      "metadata": {
        "id": "xmFCMZwfh1IM"
      },
      "execution_count": null,
      "outputs": []
    },
    {
      "cell_type": "code",
      "source": [
        "model.compile(optimizer='adam', loss='categorical_crossentropy', metrics=['accuracy'])"
      ],
      "metadata": {
        "id": "9vhndALlh2-3"
      },
      "execution_count": null,
      "outputs": []
    },
    {
      "cell_type": "code",
      "source": [
        "history = model.fit(\n",
        "    train_generator,\n",
        "    epochs=10,\n",
        "    validation_data=validation_generator\n",
        ")"
      ],
      "metadata": {
        "colab": {
          "base_uri": "https://localhost:8080/"
        },
        "id": "LwUm3uefh6Uz",
        "outputId": "90048b82-eb3f-43d4-e4a0-574562bc7cd9"
      },
      "execution_count": null,
      "outputs": [
        {
          "output_type": "stream",
          "name": "stdout",
          "text": [
            "Epoch 1/10\n",
            "20/20 [==============================] - 235s 12s/step - loss: 1.8378 - accuracy: 0.4409 - val_loss: 1.2032 - val_accuracy: 0.6369\n",
            "Epoch 2/10\n",
            "20/20 [==============================] - 53s 3s/step - loss: 0.6254 - accuracy: 0.8157 - val_loss: 0.6354 - val_accuracy: 0.7989\n",
            "Epoch 3/10\n",
            "20/20 [==============================] - 51s 3s/step - loss: 0.3617 - accuracy: 0.8850 - val_loss: 0.5809 - val_accuracy: 0.8547\n",
            "Epoch 4/10\n",
            "20/20 [==============================] - 50s 2s/step - loss: 0.2524 - accuracy: 0.9181 - val_loss: 0.5618 - val_accuracy: 0.8380\n",
            "Epoch 5/10\n",
            "20/20 [==============================] - 47s 2s/step - loss: 0.2373 - accuracy: 0.9118 - val_loss: 0.5522 - val_accuracy: 0.8324\n",
            "Epoch 6/10\n",
            "20/20 [==============================] - 48s 2s/step - loss: 0.1710 - accuracy: 0.9543 - val_loss: 0.5971 - val_accuracy: 0.8101\n",
            "Epoch 7/10\n",
            "20/20 [==============================] - 48s 2s/step - loss: 0.1255 - accuracy: 0.9575 - val_loss: 0.5396 - val_accuracy: 0.8715\n",
            "Epoch 8/10\n",
            "20/20 [==============================] - 50s 2s/step - loss: 0.0927 - accuracy: 0.9764 - val_loss: 0.5259 - val_accuracy: 0.8659\n",
            "Epoch 9/10\n",
            "20/20 [==============================] - 47s 2s/step - loss: 0.0868 - accuracy: 0.9732 - val_loss: 0.6277 - val_accuracy: 0.8101\n",
            "Epoch 10/10\n",
            "20/20 [==============================] - 44s 2s/step - loss: 0.1221 - accuracy: 0.9606 - val_loss: 0.6062 - val_accuracy: 0.8603\n"
          ]
        }
      ]
    },
    {
      "cell_type": "code",
      "source": [
        "loss, accuracy = model.evaluate(test_generator)\n",
        "print(f'Test accuracy: {accuracy}')"
      ],
      "metadata": {
        "colab": {
          "base_uri": "https://localhost:8080/"
        },
        "id": "acFR6x5an9YH",
        "outputId": "64ab8fd2-a353-43d4-d715-099d6f6c8947"
      },
      "execution_count": null,
      "outputs": [
        {
          "output_type": "stream",
          "name": "stdout",
          "text": [
            "3/3 [==============================] - 23s 10s/step - loss: 0.2118 - accuracy: 0.9438\n",
            "Test accuracy: 0.9438202381134033\n"
          ]
        }
      ]
    },
    {
      "cell_type": "code",
      "source": [
        "import matplotlib.pyplot as plt"
      ],
      "metadata": {
        "id": "KZk6Alz7krQ2"
      },
      "execution_count": null,
      "outputs": []
    },
    {
      "cell_type": "code",
      "source": [
        "#-----------------------------------------------------------\n",
        "# Retrieve a list of list results on training and test data\n",
        "# sets for each training epoch\n",
        "#-----------------------------------------------------------\n",
        "acc=history.history['accuracy']\n",
        "val_acc=history.history['val_accuracy']\n",
        "loss=history.history['loss']\n",
        "val_loss=history.history['val_loss']\n",
        "\n",
        "epochs=range(len(acc)) # Get number of epochs"
      ],
      "metadata": {
        "id": "Z-Q9lIIaki1I"
      },
      "execution_count": null,
      "outputs": []
    },
    {
      "cell_type": "code",
      "source": [
        "# Plot loss\n",
        "plt.figure(figsize=(10, 5))\n",
        "plt.plot(epochs, loss, 'b', label='Training Loss')\n",
        "plt.plot(epochs, val_loss, 'r', label='Validation Loss')\n",
        "plt.title('Training and Validation Loss')\n",
        "plt.xlabel('Epochs')\n",
        "plt.ylabel('Loss')\n",
        "plt.legend()\n",
        "plt.show()"
      ],
      "metadata": {
        "colab": {
          "base_uri": "https://localhost:8080/",
          "height": 487
        },
        "id": "3CgyRacQleDp",
        "outputId": "6e89c3c1-8be3-4722-dfbd-2940cb49c4c1"
      },
      "execution_count": null,
      "outputs": [
        {
          "output_type": "display_data",
          "data": {
            "text/plain": [
              "<Figure size 1000x500 with 1 Axes>"
            ],
            "image/png": "[encoded data removed]"
          },
          "metadata": {}
        }
      ]
    },
    {
      "cell_type": "code",
      "source": [
        "# Plot accuracy\n",
        "plt.figure(figsize=(10, 5))\n",
        "plt.plot(epochs, acc, 'b', label='Training Accuracy')\n",
        "plt.plot(epochs, val_acc, 'r', label='Validation Accuracy')\n",
        "plt.title('Training and Validation Accuracy')\n",
        "plt.xlabel('Epochs')\n",
        "plt.ylabel('Accuracy')\n",
        "plt.legend()\n",
        "plt.show()"
      ],
      "metadata": {
        "colab": {
          "base_uri": "https://localhost:8080/",
          "height": 487
        },
        "id": "5gkxpketk66N",
        "outputId": "e680a0d5-9cb2-437d-eda0-d93306b0a864"
      },
      "execution_count": null,
      "outputs": [
        {
          "output_type": "display_data",
          "data": {
            "text/plain": [
              "<Figure size 1000x500 with 1 Axes>"
            ],
            "image/png": "[encoded data removed]"
          },
          "metadata": {}
        }
      ]
    },
    {
      "cell_type": "markdown",
      "source": [
        "### Model Conversion"
      ],
      "metadata": {
        "id": "LJvjD-N5ogl8"
      }
    },
    {
      "cell_type": "code",
      "source": [
        "model.save('food_classification_model.h5')\n",
        "\n",
        "converter = tf.lite.TFLiteConverter.from_keras_model(model)\n",
        "tflite_model = converter.convert()\n",
        "\n",
        "with open('food_classification_model.tflite', 'wb') as f:\n",
        "    f.write(tflite_model)"
      ],
      "metadata": {
        "colab": {
          "base_uri": "https://localhost:8080/"
        },
        "id": "FNLzTV8Un6E7",
        "outputId": "8f058562-67fb-4bce-b1a6-2a6d2af4a1b2"
      },
      "execution_count": null,
      "outputs": [
        {
          "output_type": "stream",
          "name": "stderr",
          "text": [
            "/usr/local/lib/python3.10/dist-packages/keras/src/engine/training.py:3103: UserWarning: You are saving your model as an HDF5 file via `model.save()`. This file format is considered legacy. We recommend using instead the native Keras format, e.g. `model.save('my_model.keras')`.\n",
            "  saving_api.save_model(\n",
            "WARNING:absl:`mobilenetv2_1.00_224_input` is not a valid tf.function parameter name. Sanitizing to `mobilenetv2_1_00_224_input`.\n",
            "WARNING:absl:`mobilenetv2_1.00_224_input` is not a valid tf.function parameter name. Sanitizing to `mobilenetv2_1_00_224_input`.\n",
            "WARNING:absl:`mobilenetv2_1.00_224_input` is not a valid tf.function parameter name. Sanitizing to `mobilenetv2_1_00_224_input`.\n"
          ]
        }
      ]
    },
    {
      "cell_type": "code",
      "source": [
        "import tensorflow as tf\n",
        "from PIL import Image\n",
        "import numpy as np\n",
        "\n",
        "# Fungsi untuk memuat model dari file .h5 dan menambahkan fungsi estimasi kalori\n",
        "def load_and_convert_model(model_path, calorie_reference):\n",
        "    # Load model Keras\n",
        "    model = tf.keras.models.load_model(model_path)\n",
        "\n",
        "    # Fungsi untuk estimasi kalori berdasarkan prediksi kelas makanan\n",
        "    def estimate_calories(food_class_index, weight):\n",
        "        class_names = [\n",
        "            \"Ayam Betutu\", \"Beberuk Terong\", \"Coto Makassar\", \"Gudeg\",\n",
        "            \"Kerak Telor\", \"Mie Aceh\", \"Nasi Kuning\", \"Nasi Pecel\",\n",
        "            \"Papeda\", \"Pempek\", \"Peuyeum\", \"Rawon\", \"Rendang\",\n",
        "            \"Sate Madura\", \"Serabi\", \"Soto Banjar\", \"Soto Lamongan\", \"Tahu Sumedang\"\n",
        "        ]\n",
        "\n",
        "        predicted_class = class_names[food_class_index]\n",
        "        if predicted_class in calorie_reference:\n",
        "            calories_per_100g = calorie_reference[predicted_class]\n",
        "            calories = (weight * calories_per_100g) / 100\n",
        "            return calories\n",
        "        else:\n",
        "            return None\n",
        "\n",
        "    # Simpan model Keras ke file .h5\n",
        "    model.save('food_classification_model.h5')\n",
        "\n",
        "    # Konversi model Keras menjadi model TFLite\n",
        "    converter = tf.lite.TFLiteConverter.from_keras_model(model)\n",
        "\n",
        "    # Definisi fungsi tambahan untuk estimasi kalori sebagai bagian dari model TFLite\n",
        "    def post_processing(input_data):\n",
        "        food_class_index = np.argmax(input_data)\n",
        "        weight = input_details['weight']\n",
        "        calories = estimate_calories(food_class_index, weight)\n",
        "        return np.array([calories])\n",
        "\n",
        "    converter.experimental_post_training_quantization = True\n",
        "    converter.post_training_quantize = True\n",
        "    tflite_model = converter.convert()\n",
        "\n",
        "    # Simpan model TFLite ke file .tflite\n",
        "    with open('food_classification_model.tflite', 'wb') as f:\n",
        "        f.write(tflite_model)\n",
        "\n",
        "    return 'food_classification_model.tflite'\n",
        "\n",
        "# Contoh penggunaan\n",
        "calorie_reference = {\n",
        "    \"Ayam Betutu\": 150,\n",
        "    \"Beberuk Terong\": 80,\n",
        "    \"Coto Makassar\": 300,\n",
        "    \"Gudeg\": 200,\n",
        "    \"Kerak Telor\": 300,\n",
        "    \"Mie Aceh\": 350,\n",
        "    \"Nasi Kuning\": 150,\n",
        "    \"Nasi Pecel\": 200,\n",
        "    \"Papeda\": 100,\n",
        "    \"Pempek\": 150,\n",
        "    \"Peuyeum\": 200,\n",
        "    \"Rawon\": 250,\n",
        "    \"Rendang\": 300,\n",
        "    \"Sate Madura\": 200,\n",
        "    \"Serabi\": 100,\n",
        "    \"Soto Banjar\": 200,\n",
        "    \"Soto Lamongan\": 250,\n",
        "    \"Tahu Sumedang\": 150\n",
        "}\n",
        "\n",
        "model_path = \"food_classification_model.h5\"  # Ganti dengan path model Keras Anda\n",
        "tflite_model_path = load_and_convert_model(model_path, calorie_reference)\n",
        "print(f\"Model TFLite berhasil disimpan di: {tflite_model_path}\")"
      ],
      "metadata": {
        "colab": {
          "base_uri": "https://localhost:8080/"
        },
        "id": "4v0Q2LiPxlMu",
        "outputId": "9cb914ef-3d35-4d6d-845c-a7e0f860fad3"
      },
      "execution_count": null,
      "outputs": [
        {
          "output_type": "stream",
          "name": "stderr",
          "text": [
            "/usr/local/lib/python3.10/dist-packages/keras/src/engine/training.py:3103: UserWarning: You are saving your model as an HDF5 file via `model.save()`. This file format is considered legacy. We recommend using instead the native Keras format, e.g. `model.save('my_model.keras')`.\n",
            "  saving_api.save_model(\n",
            "WARNING:absl:`mobilenetv2_1.00_224_input` is not a valid tf.function parameter name. Sanitizing to `mobilenetv2_1_00_224_input`.\n",
            "WARNING:absl:`mobilenetv2_1.00_224_input` is not a valid tf.function parameter name. Sanitizing to `mobilenetv2_1_00_224_input`.\n"
          ]
        },
        {
          "output_type": "stream",
          "name": "stdout",
          "text": [
            "Model TFLite berhasil disimpan di: food_classification_model.tflite\n"
          ]
        }
      ]
    },
    {
      "cell_type": "code",
      "source": [
        "from google.colab import files\n",
        "files.download('food_classification_model.tflite')"
      ],
      "metadata": {
        "id": "QjZp1eWuzVKs",
        "outputId": "e405aff6-25d7-40bf-e128-9e7ca171a7cb",
        "colab": {
          "base_uri": "https://localhost:8080/",
          "height": 34
        }
      },
      "execution_count": null,
      "outputs": [
        {
          "output_type": "display_data",
          "data": {
            "text/plain": [
              "<IPython.core.display.Javascript object>"
            ],
            "application/javascript": [
              "\n",
              "    async function download(id, filename, size) {\n",
              "      if (!google.colab.kernel.accessAllowed) {\n",
              "        return;\n",
              "      }\n",
              "      const div = document.createElement('div');\n",
              "      const label = document.createElement('label');\n",
              "      label.textContent = `Downloading \"${filename}\": `;\n",
              "      div.appendChild(label);\n",
              "      const progress = document.createElement('progress');\n",
              "      progress.max = size;\n",
              "      div.appendChild(progress);\n",
              "      document.body.appendChild(div);\n",
              "\n",
              "      const buffers = [];\n",
              "      let downloaded = 0;\n",
              "\n",
              "      const channel = await google.colab.kernel.comms.open(id);\n",
              "      // Send a message to notify the kernel that we're ready.\n",
              "      channel.send({})\n",
              "\n",
              "      for await (const message of channel.messages) {\n",
              "        // Send a message to notify the kernel that we're ready.\n",
              "        channel.send({})\n",
              "        if (message.buffers) {\n",
              "          for (const buffer of message.buffers) {\n",
              "            buffers.push(buffer);\n",
              "            downloaded += buffer.byteLength;\n",
              "            progress.value = downloaded;\n",
              "          }\n",
              "        }\n",
              "      }\n",
              "      const blob = new Blob(buffers, {type: 'application/binary'});\n",
              "      const a = document.createElement('a');\n",
              "      a.href = window.URL.createObjectURL(blob);\n",
              "      a.download = filename;\n",
              "      div.appendChild(a);\n",
              "      a.click();\n",
              "      div.remove();\n",
              "    }\n",
              "  "
            ]
          },
          "metadata": {}
        },
        {
          "output_type": "display_data",
          "data": {
            "text/plain": [
              "<IPython.core.display.Javascript object>"
            ],
            "application/javascript": [
              "download(\"download_67e58fa1-7676-4a7a-bd28-b3295d2e4913\", \"food_classification_model.tflite\", 14187432)"
            ]
          },
          "metadata": {}
        }
      ]
    },
    {
      "cell_type": "markdown",
      "source": [],
      "metadata": {
        "id": "Z5gADNtPxlDr"
      }
    },
    {
      "cell_type": "code",
      "source": [
        "import tensorflow as tf\n",
        "\n",
        "# Fungsi untuk memuat model TFLite\n",
        "def load_tflite_model(model_path):\n",
        "    interpreter = tf.lite.Interpreter(model_path=model_path)\n",
        "    interpreter.allocate_tensors()\n",
        "    input_details = interpreter.get_input_details()\n",
        "    output_details = interpreter.get_output_details()\n",
        "    return interpreter, input_details, output_details\n",
        "\n",
        "# Memuat model TFLite yang sudah dilatih\n",
        "model_path = \"food_classification_model.tflite\"  # Ganti dengan path model TFLite Anda\n",
        "interpreter, input_details, output_details = load_tflite_model(model_path)"
      ],
      "metadata": {
        "id": "xX36vutJwFkc"
      },
      "execution_count": null,
      "outputs": []
    },
    {
      "cell_type": "code",
      "source": [
        "from google.colab import files\n",
        "from PIL import Image\n",
        "import numpy as np\n",
        "import io\n",
        "\n",
        "# Fungsi untuk memuat gambar dari sistem lokal ke Colab\n",
        "def load_image_from_local():\n",
        "    uploaded = files.upload()\n",
        "    file_name = next(iter(uploaded))\n",
        "    img_data = uploaded[file_name]\n",
        "    image = Image.open(io.BytesIO(img_data))\n",
        "    return image, file_name\n",
        "\n",
        "# Fungsi untuk memproses gambar\n",
        "def preprocess_image(image):\n",
        "    # Lakukan praproses gambar sesuai dengan yang dibutuhkan oleh model TFLite\n",
        "    # Contoh: resize gambar, normalisasi, dll.\n",
        "    resized_image = image.resize((224, 224))  # Ubah sesuai dengan kebutuhan model TFLite Anda\n",
        "    return np.asarray(resized_image)\n",
        "\n",
        "# Fungsi untuk memprediksi kelas makanan dari gambar menggunakan model TFLite\n",
        "def predict_food_class(image, interpreter, input_details, output_details):\n",
        "    input_shape = input_details[0]['shape']\n",
        "    input_data = preprocess_image(image)\n",
        "    input_data = np.expand_dims(input_data, axis=0).astype(np.float32)\n",
        "    interpreter.set_tensor(input_details[0]['index'], input_data)\n",
        "    interpreter.invoke()\n",
        "    output_data = interpreter.get_tensor(output_details[0]['index'])\n",
        "    predicted_class_index = np.argmax(output_data)\n",
        "    return predicted_class_index\n",
        "\n",
        "# Fungsi untuk menghitung estimasi kalori berdasarkan prediksi kelas makanan dan berat makanan\n",
        "def estimate_calories(food_class_index, weight):\n",
        "    # Daftar kelas makanan yang sesuai dengan output model TFLite\n",
        "    class_names = [\n",
        "        \"Ayam Betutu\", \"Beberuk Terong\", \"Coto Makassar\", \"Gudeg\",\n",
        "        \"Kerak Telor\", \"Mie Aceh\", \"Nasi Kuning\", \"Nasi Pecel\",\n",
        "        \"Papeda\", \"Pempek\", \"Peuyeum\", \"Rawon\", \"Rendang\",\n",
        "        \"Sate Madura\", \"Serabi\", \"Soto Banjar\", \"Soto Lamongan\", \"Tahu Sumedang\"\n",
        "    ]\n",
        "\n",
        "    calorie_reference = {\n",
        "        \"Ayam Betutu\": 150,\n",
        "        \"Beberuk Terong\": 80,\n",
        "        \"Coto Makassar\": 300,\n",
        "        \"Gudeg\": 200,\n",
        "        \"Kerak Telor\": 300,\n",
        "        \"Mie Aceh\": 350,\n",
        "        \"Nasi Kuning\": 150,\n",
        "        \"Nasi Pecel\": 200,\n",
        "        \"Papeda\": 100,\n",
        "        \"Pempek\": 150,\n",
        "        \"Peuyeum\": 200,\n",
        "        \"Rawon\": 250,\n",
        "        \"Rendang\": 300,\n",
        "        \"Sate Madura\": 200,\n",
        "        \"Serabi\": 100,\n",
        "        \"Soto Banjar\": 200,\n",
        "        \"Soto Lamongan\": 250,\n",
        "        \"Tahu Sumedang\": 150\n",
        "    }\n",
        "\n",
        "    predicted_class = class_names[food_class_index]\n",
        "    if predicted_class in calorie_reference:\n",
        "        calories_per_100g = calorie_reference[predicted_class]\n",
        "        calories = (weight * calories_per_100g) / 100\n",
        "        return predicted_class, calories\n",
        "    else:\n",
        "        return None, None"
      ],
      "metadata": {
        "id": "jbdZm87MwHBr"
      },
      "execution_count": null,
      "outputs": []
    },
    {
      "cell_type": "code",
      "source": [
        "# Contoh penggunaan\n",
        "print(\"Silakan unggah gambar makanan:\")\n",
        "image, file_name = load_image_from_local()\n",
        "\n",
        "# Meminta input untuk berat makanan\n",
        "weight = float(input(\"Masukkan berat makanan dalam gram: \"))\n",
        "\n",
        "# Panggil fungsi untuk memprediksi kelas makanan\n",
        "food_class_index = predict_food_class(image, interpreter, input_details, output_details)\n",
        "\n",
        "# Hitung estimasi kalori berdasarkan prediksi kelas makanan dan berat makanan\n",
        "food_class_predicted, estimated_calories = estimate_calories(food_class_index, weight)\n",
        "\n",
        "# Tampilkan hasilnya\n",
        "if food_class_predicted is not None and estimated_calories is not None:\n",
        "    print(f\"Jenis makanan: {food_class_predicted}\")\n",
        "    print(f\"Estimasi kalori untuk {food_class_predicted} dengan berat {weight} gram adalah: {estimated_calories} kalori\")\n",
        "else:\n",
        "    print(\"Makanan tidak ditemukan dalam referensi kalori atau terjadi kesalahan dalam prediksi.\")"
      ],
      "metadata": {
        "colab": {
          "base_uri": "https://localhost:8080/",
          "height": 142
        },
        "id": "aip7Kzi5wQOw",
        "outputId": "8546308b-6395-4092-9a08-e79483964c42"
      },
      "execution_count": null,
      "outputs": [
        {
          "output_type": "stream",
          "name": "stdout",
          "text": [
            "Silakan unggah gambar makanan:\n"
          ]
        },
        {
          "output_type": "display_data",
          "data": {
            "text/plain": [
              "<IPython.core.display.HTML object>"
            ],
            "text/html": [
              "\n",
              "     <input type=\"file\" id=\"files-5bc2aca4-2515-47c8-bd6e-6ee4dad1069a\" name=\"files[]\" multiple disabled\n",
              "        style=\"border:none\" />\n",
              "     <output id=\"result-5bc2aca4-2515-47c8-bd6e-6ee4dad1069a\">\n",
              "      Upload widget is only available when the cell has been executed in the\n",
              "      current browser session. Please rerun this cell to enable.\n",
              "      </output>\n",
              "      <script>// Copyright 2017 Google LLC\n",
              "//\n",
              "// Licensed under the Apache License, Version 2.0 (the \"License\");\n",
              "// you may not use this file except in compliance with the License.\n",
              "// You may obtain a copy of the License at\n",
              "//\n",
              "//      http://www.apache.org/licenses/LICENSE-2.0\n",
              "//\n",
              "// Unless required by applicable law or agreed to in writing, software\n",
              "// distributed under the License is distributed on an \"AS IS\" BASIS,\n",
              "// WITHOUT WARRANTIES OR CONDITIONS OF ANY KIND, either express or implied.\n",
              "// See the License for the specific language governing permissions and\n",
              "// limitations under the License.\n",
              "\n",
              "/**\n",
              " * @fileoverview Helpers for google.colab Python module.\n",
              " */\n",
              "(function(scope) {\n",
              "function span(text, styleAttributes = {}) {\n",
              "  const element = document.createElement('span');\n",
              "  element.textContent = text;\n",
              "  for (const key of Object.keys(styleAttributes)) {\n",
              "    element.style[key] = styleAttributes[key];\n",
              "  }\n",
              "  return element;\n",
              "}\n",
              "\n",
              "// Max number of bytes which will be uploaded at a time.\n",
              "const MAX_PAYLOAD_SIZE = 100 * 1024;\n",
              "\n",
              "function _uploadFiles(inputId, outputId) {\n",
              "  const steps = uploadFilesStep(inputId, outputId);\n",
              "  const outputElement = document.getElementById(outputId);\n",
              "  // Cache steps on the outputElement to make it available for the next call\n",
              "  // to uploadFilesContinue from Python.\n",
              "  outputElement.steps = steps;\n",
              "\n",
              "  return _uploadFilesContinue(outputId);\n",
              "}\n",
              "\n",
              "// This is roughly an async generator (not supported in the browser yet),\n",
              "// where there are multiple asynchronous steps and the Python side is going\n",
              "// to poll for completion of each step.\n",
              "// This uses a Promise to block the python side on completion of each step,\n",
              "// then passes the result of the previous step as the input to the next step.\n",
              "function _uploadFilesContinue(outputId) {\n",
              "  const outputElement = document.getElementById(outputId);\n",
              "  const steps = outputElement.steps;\n",
              "\n",
              "  const next = steps.next(outputElement.lastPromiseValue);\n",
              "  return Promise.resolve(next.value.promise).then((value) => {\n",
              "    // Cache the last promise value to make it available to the next\n",
              "    // step of the generator.\n",
              "    outputElement.lastPromiseValue = value;\n",
              "    return next.value.response;\n",
              "  });\n",
              "}\n",
              "\n",
              "/**\n",
              " * Generator function which is called between each async step of the upload\n",
              " * process.\n",
              " * @param {string} inputId Element ID of the input file picker element.\n",
              " * @param {string} outputId Element ID of the output display.\n",
              " * @return {!Iterable<!Object>} Iterable of next steps.\n",
              " */\n",
              "function* uploadFilesStep(inputId, outputId) {\n",
              "  const inputElement = document.getElementById(inputId);\n",
              "  inputElement.disabled = false;\n",
              "\n",
              "  const outputElement = document.getElementById(outputId);\n",
              "  outputElement.innerHTML = '';\n",
              "\n",
              "  const pickedPromise = new Promise((resolve) => {\n",
              "    inputElement.addEventListener('change', (e) => {\n",
              "      resolve(e.target.files);\n",
              "    });\n",
              "  });\n",
              "\n",
              "  const cancel = document.createElement('button');\n",
              "  inputElement.parentElement.appendChild(cancel);\n",
              "  cancel.textContent = 'Cancel upload';\n",
              "  const cancelPromise = new Promise((resolve) => {\n",
              "    cancel.onclick = () => {\n",
              "      resolve(null);\n",
              "    };\n",
              "  });\n",
              "\n",
              "  // Wait for the user to pick the files.\n",
              "  const files = yield {\n",
              "    promise: Promise.race([pickedPromise, cancelPromise]),\n",
              "    response: {\n",
              "      action: 'starting',\n",
              "    }\n",
              "  };\n",
              "\n",
              "  cancel.remove();\n",
              "\n",
              "  // Disable the input element since further picks are not allowed.\n",
              "  inputElement.disabled = true;\n",
              "\n",
              "  if (!files) {\n",
              "    return {\n",
              "      response: {\n",
              "        action: 'complete',\n",
              "      }\n",
              "    };\n",
              "  }\n",
              "\n",
              "  for (const file of files) {\n",
              "    const li = document.createElement('li');\n",
              "    li.append(span(file.name, {fontWeight: 'bold'}));\n",
              "    li.append(span(\n",
              "        `(${file.type || 'n/a'}) - ${file.size} bytes, ` +\n",
              "        `last modified: ${\n",
              "            file.lastModifiedDate ? file.lastModifiedDate.toLocaleDateString() :\n",
              "                                    'n/a'} - `));\n",
              "    const percent = span('0% done');\n",
              "    li.appendChild(percent);\n",
              "\n",
              "    outputElement.appendChild(li);\n",
              "\n",
              "    const fileDataPromise = new Promise((resolve) => {\n",
              "      const reader = new FileReader();\n",
              "      reader.onload = (e) => {\n",
              "        resolve(e.target.result);\n",
              "      };\n",
              "      reader.readAsArrayBuffer(file);\n",
              "    });\n",
              "    // Wait for the data to be ready.\n",
              "    let fileData = yield {\n",
              "      promise: fileDataPromise,\n",
              "      response: {\n",
              "        action: 'continue',\n",
              "      }\n",
              "    };\n",
              "\n",
              "    // Use a chunked sending to avoid message size limits. See b/62115660.\n",
              "    let position = 0;\n",
              "    do {\n",
              "      const length = Math.min(fileData.byteLength - position, MAX_PAYLOAD_SIZE);\n",
              "      const chunk = new Uint8Array(fileData, position, length);\n",
              "      position += length;\n",
              "\n",
              "      const base64 = btoa(String.fromCharCode.apply(null, chunk));\n",
              "      yield {\n",
              "        response: {\n",
              "          action: 'append',\n",
              "          file: file.name,\n",
              "          data: base64,\n",
              "        },\n",
              "      };\n",
              "\n",
              "      let percentDone = fileData.byteLength === 0 ?\n",
              "          100 :\n",
              "          Math.round((position / fileData.byteLength) * 100);\n",
              "      percent.textContent = `${percentDone}% done`;\n",
              "\n",
              "    } while (position < fileData.byteLength);\n",
              "  }\n",
              "\n",
              "  // All done.\n",
              "  yield {\n",
              "    response: {\n",
              "      action: 'complete',\n",
              "    }\n",
              "  };\n",
              "}\n",
              "\n",
              "scope.google = scope.google || {};\n",
              "scope.google.colab = scope.google.colab || {};\n",
              "scope.google.colab._files = {\n",
              "  _uploadFiles,\n",
              "  _uploadFilesContinue,\n",
              "};\n",
              "})(self);\n",
              "</script> "
            ]
          },
          "metadata": {}
        },
        {
          "output_type": "stream",
          "name": "stdout",
          "text": [
            "Saving papeda.jpg to papeda.jpg\n",
            "Masukkan berat makanan dalam gram: 150\n",
            "Jenis makanan: Serabi\n",
            "Estimasi kalori untuk Serabi dengan berat 150.0 gram adalah: 150.0 kalori\n"
          ]
        }
      ]
    }
  ]
}